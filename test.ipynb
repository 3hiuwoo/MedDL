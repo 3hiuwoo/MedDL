{
 "cells": [
  {
   "cell_type": "code",
   "execution_count": 2,
   "metadata": {},
   "outputs": [],
   "source": [
    "import torch\n",
    "from model.encoder import CLEncoder, TSEncoder"
   ]
  },
  {
   "cell_type": "code",
   "execution_count": 3,
   "metadata": {},
   "outputs": [],
   "source": [
    "model = CLEncoder(TSEncoder, input_dims=1, output_dims=320)"
   ]
  },
  {
   "cell_type": "code",
   "execution_count": 12,
   "metadata": {},
   "outputs": [],
   "source": [
    "net = torch.optim.swa_utils.AveragedModel(model.encoder)"
   ]
  },
  {
   "cell_type": "code",
   "execution_count": 13,
   "metadata": {},
   "outputs": [],
   "source": [
    "net.update_parameters(model.encoder)"
   ]
  },
  {
   "cell_type": "code",
   "execution_count": 14,
   "metadata": {},
   "outputs": [
    {
     "data": {
      "text/plain": [
       "AveragedModel(\n",
       "  (module): TSEncoder(\n",
       "    (input_fc): Linear(in_features=1, out_features=64, bias=True)\n",
       "    (feature_extractor): DilatedConvEncoder(\n",
       "      (net): Sequential(\n",
       "        (0): ConvBlock(\n",
       "          (conv1): SamePadConv(\n",
       "            (conv): Conv1d(64, 64, kernel_size=(3,), stride=(1,), padding=(1,))\n",
       "          )\n",
       "          (conv2): SamePadConv(\n",
       "            (conv): Conv1d(64, 64, kernel_size=(3,), stride=(1,), padding=(1,))\n",
       "          )\n",
       "        )\n",
       "        (1): ConvBlock(\n",
       "          (conv1): SamePadConv(\n",
       "            (conv): Conv1d(64, 64, kernel_size=(3,), stride=(1,), padding=(2,), dilation=(2,))\n",
       "          )\n",
       "          (conv2): SamePadConv(\n",
       "            (conv): Conv1d(64, 64, kernel_size=(3,), stride=(1,), padding=(2,), dilation=(2,))\n",
       "          )\n",
       "        )\n",
       "        (2): ConvBlock(\n",
       "          (conv1): SamePadConv(\n",
       "            (conv): Conv1d(64, 64, kernel_size=(3,), stride=(1,), padding=(4,), dilation=(4,))\n",
       "          )\n",
       "          (conv2): SamePadConv(\n",
       "            (conv): Conv1d(64, 64, kernel_size=(3,), stride=(1,), padding=(4,), dilation=(4,))\n",
       "          )\n",
       "        )\n",
       "        (3): ConvBlock(\n",
       "          (conv1): SamePadConv(\n",
       "            (conv): Conv1d(64, 64, kernel_size=(3,), stride=(1,), padding=(8,), dilation=(8,))\n",
       "          )\n",
       "          (conv2): SamePadConv(\n",
       "            (conv): Conv1d(64, 64, kernel_size=(3,), stride=(1,), padding=(8,), dilation=(8,))\n",
       "          )\n",
       "        )\n",
       "        (4): ConvBlock(\n",
       "          (conv1): SamePadConv(\n",
       "            (conv): Conv1d(64, 64, kernel_size=(3,), stride=(1,), padding=(16,), dilation=(16,))\n",
       "          )\n",
       "          (conv2): SamePadConv(\n",
       "            (conv): Conv1d(64, 64, kernel_size=(3,), stride=(1,), padding=(16,), dilation=(16,))\n",
       "          )\n",
       "        )\n",
       "        (5): ConvBlock(\n",
       "          (conv1): SamePadConv(\n",
       "            (conv): Conv1d(64, 64, kernel_size=(3,), stride=(1,), padding=(32,), dilation=(32,))\n",
       "          )\n",
       "          (conv2): SamePadConv(\n",
       "            (conv): Conv1d(64, 64, kernel_size=(3,), stride=(1,), padding=(32,), dilation=(32,))\n",
       "          )\n",
       "        )\n",
       "        (6): ConvBlock(\n",
       "          (conv1): SamePadConv(\n",
       "            (conv): Conv1d(64, 64, kernel_size=(3,), stride=(1,), padding=(64,), dilation=(64,))\n",
       "          )\n",
       "          (conv2): SamePadConv(\n",
       "            (conv): Conv1d(64, 64, kernel_size=(3,), stride=(1,), padding=(64,), dilation=(64,))\n",
       "          )\n",
       "        )\n",
       "        (7): ConvBlock(\n",
       "          (conv1): SamePadConv(\n",
       "            (conv): Conv1d(64, 64, kernel_size=(3,), stride=(1,), padding=(128,), dilation=(128,))\n",
       "          )\n",
       "          (conv2): SamePadConv(\n",
       "            (conv): Conv1d(64, 64, kernel_size=(3,), stride=(1,), padding=(128,), dilation=(128,))\n",
       "          )\n",
       "        )\n",
       "        (8): ConvBlock(\n",
       "          (conv1): SamePadConv(\n",
       "            (conv): Conv1d(64, 64, kernel_size=(3,), stride=(1,), padding=(256,), dilation=(256,))\n",
       "          )\n",
       "          (conv2): SamePadConv(\n",
       "            (conv): Conv1d(64, 64, kernel_size=(3,), stride=(1,), padding=(256,), dilation=(256,))\n",
       "          )\n",
       "        )\n",
       "        (9): ConvBlock(\n",
       "          (conv1): SamePadConv(\n",
       "            (conv): Conv1d(64, 64, kernel_size=(3,), stride=(1,), padding=(512,), dilation=(512,))\n",
       "          )\n",
       "          (conv2): SamePadConv(\n",
       "            (conv): Conv1d(64, 64, kernel_size=(3,), stride=(1,), padding=(512,), dilation=(512,))\n",
       "          )\n",
       "        )\n",
       "        (10): ConvBlock(\n",
       "          (conv1): SamePadConv(\n",
       "            (conv): Conv1d(64, 320, kernel_size=(3,), stride=(1,), padding=(1024,), dilation=(1024,))\n",
       "          )\n",
       "          (conv2): SamePadConv(\n",
       "            (conv): Conv1d(320, 320, kernel_size=(3,), stride=(1,), padding=(1024,), dilation=(1024,))\n",
       "          )\n",
       "          (projector): Conv1d(64, 320, kernel_size=(1,), stride=(1,))\n",
       "        )\n",
       "      )\n",
       "    )\n",
       "    (repr_dropout): Dropout(p=0.1, inplace=False)\n",
       "  )\n",
       ")"
      ]
     },
     "execution_count": 14,
     "metadata": {},
     "output_type": "execute_result"
    }
   ],
   "source": [
    "net"
   ]
  },
  {
   "cell_type": "code",
   "execution_count": null,
   "metadata": {},
   "outputs": [],
   "source": []
  }
 ],
 "metadata": {
  "kernelspec": {
   "display_name": "Python 3",
   "language": "python",
   "name": "python3"
  },
  "language_info": {
   "codemirror_mode": {
    "name": "ipython",
    "version": 3
   },
   "file_extension": ".py",
   "mimetype": "text/x-python",
   "name": "python",
   "nbconvert_exporter": "python",
   "pygments_lexer": "ipython3",
   "version": "3.13.1"
  }
 },
 "nbformat": 4,
 "nbformat_minor": 2
}
