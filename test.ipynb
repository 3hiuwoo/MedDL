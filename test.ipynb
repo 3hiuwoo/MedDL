{
 "cells": [
  {
   "cell_type": "code",
   "execution_count": 1,
   "metadata": {},
   "outputs": [],
   "source": [
    "import numpy as np"
   ]
  },
  {
   "cell_type": "code",
   "execution_count": 2,
   "metadata": {},
   "outputs": [],
   "source": [
    "x = np.arange(20).reshape(2, 2, 5)"
   ]
  },
  {
   "cell_type": "code",
   "execution_count": 5,
   "metadata": {},
   "outputs": [],
   "source": [
    "import torch"
   ]
  },
  {
   "cell_type": "code",
   "execution_count": 6,
   "metadata": {},
   "outputs": [],
   "source": [
    "xt = torch.from_numpy(x)"
   ]
  },
  {
   "cell_type": "code",
   "execution_count": 7,
   "metadata": {},
   "outputs": [
    {
     "data": {
      "text/plain": [
       "tensor([[[ 0,  1,  2,  3,  4],\n",
       "         [10, 11, 12, 13, 14]],\n",
       "\n",
       "        [[ 5,  6,  7,  8,  9],\n",
       "         [15, 16, 17, 18, 19]]])"
      ]
     },
     "execution_count": 7,
     "metadata": {},
     "output_type": "execute_result"
    }
   ],
   "source": [
    "xt.permute(1, 0, 2)"
   ]
  },
  {
   "cell_type": "code",
   "execution_count": 10,
   "metadata": {},
   "outputs": [],
   "source": [
    "x1 = np.arange(60).reshape(5, 6, 2)"
   ]
  },
  {
   "cell_type": "code",
   "execution_count": 13,
   "metadata": {},
   "outputs": [],
   "source": [
    "x2 = x1.reshape(5, 2, -1, 2)"
   ]
  },
  {
   "cell_type": "code",
   "execution_count": 17,
   "metadata": {},
   "outputs": [
    {
     "data": {
      "text/plain": [
       "array([[[[ 0,  1],\n",
       "         [ 2,  3],\n",
       "         [ 4,  5]],\n",
       "\n",
       "        [[ 6,  7],\n",
       "         [ 8,  9],\n",
       "         [10, 11]]],\n",
       "\n",
       "\n",
       "       [[[12, 13],\n",
       "         [14, 15],\n",
       "         [16, 17]],\n",
       "\n",
       "        [[18, 19],\n",
       "         [20, 21],\n",
       "         [22, 23]]],\n",
       "\n",
       "\n",
       "       [[[24, 25],\n",
       "         [26, 27],\n",
       "         [28, 29]],\n",
       "\n",
       "        [[30, 31],\n",
       "         [32, 33],\n",
       "         [34, 35]]],\n",
       "\n",
       "\n",
       "       [[[36, 37],\n",
       "         [38, 39],\n",
       "         [40, 41]],\n",
       "\n",
       "        [[42, 43],\n",
       "         [44, 45],\n",
       "         [46, 47]]],\n",
       "\n",
       "\n",
       "       [[[48, 49],\n",
       "         [50, 51],\n",
       "         [52, 53]],\n",
       "\n",
       "        [[54, 55],\n",
       "         [56, 57],\n",
       "         [58, 59]]]])"
      ]
     },
     "execution_count": 17,
     "metadata": {},
     "output_type": "execute_result"
    }
   ],
   "source": [
    "x2"
   ]
  },
  {
   "cell_type": "code",
   "execution_count": 23,
   "metadata": {},
   "outputs": [
    {
     "data": {
      "text/plain": [
       "array([[[[ 0],\n",
       "         [ 2],\n",
       "         [ 4]],\n",
       "\n",
       "        [[ 6],\n",
       "         [ 8],\n",
       "         [10]]],\n",
       "\n",
       "\n",
       "       [[[12],\n",
       "         [14],\n",
       "         [16]],\n",
       "\n",
       "        [[18],\n",
       "         [20],\n",
       "         [22]]],\n",
       "\n",
       "\n",
       "       [[[24],\n",
       "         [26],\n",
       "         [28]],\n",
       "\n",
       "        [[30],\n",
       "         [32],\n",
       "         [34]]],\n",
       "\n",
       "\n",
       "       [[[36],\n",
       "         [38],\n",
       "         [40]],\n",
       "\n",
       "        [[42],\n",
       "         [44],\n",
       "         [46]]],\n",
       "\n",
       "\n",
       "       [[[48],\n",
       "         [50],\n",
       "         [52]],\n",
       "\n",
       "        [[54],\n",
       "         [56],\n",
       "         [58]]],\n",
       "\n",
       "\n",
       "       [[[ 1],\n",
       "         [ 3],\n",
       "         [ 5]],\n",
       "\n",
       "        [[ 7],\n",
       "         [ 9],\n",
       "         [11]]],\n",
       "\n",
       "\n",
       "       [[[13],\n",
       "         [15],\n",
       "         [17]],\n",
       "\n",
       "        [[19],\n",
       "         [21],\n",
       "         [23]]],\n",
       "\n",
       "\n",
       "       [[[25],\n",
       "         [27],\n",
       "         [29]],\n",
       "\n",
       "        [[31],\n",
       "         [33],\n",
       "         [35]]],\n",
       "\n",
       "\n",
       "       [[[37],\n",
       "         [39],\n",
       "         [41]],\n",
       "\n",
       "        [[43],\n",
       "         [45],\n",
       "         [47]]],\n",
       "\n",
       "\n",
       "       [[[49],\n",
       "         [51],\n",
       "         [53]],\n",
       "\n",
       "        [[55],\n",
       "         [57],\n",
       "         [59]]]])"
      ]
     },
     "execution_count": 23,
     "metadata": {},
     "output_type": "execute_result"
    }
   ],
   "source": [
    "x1.transpose(2, 0, 1).reshape(-1, 2, 3, 1)"
   ]
  },
  {
   "cell_type": "code",
   "execution_count": 26,
   "metadata": {},
   "outputs": [],
   "source": [
    "y = np.arange(15).reshape(5, 3)"
   ]
  },
  {
   "cell_type": "code",
   "execution_count": 27,
   "metadata": {},
   "outputs": [
    {
     "data": {
      "text/plain": [
       "array([[ 0,  1,  2],\n",
       "       [ 3,  4,  5],\n",
       "       [ 6,  7,  8],\n",
       "       [ 9, 10, 11],\n",
       "       [12, 13, 14],\n",
       "       [ 0,  1,  2],\n",
       "       [ 3,  4,  5],\n",
       "       [ 6,  7,  8],\n",
       "       [ 9, 10, 11],\n",
       "       [12, 13, 14]])"
      ]
     },
     "execution_count": 27,
     "metadata": {},
     "output_type": "execute_result"
    }
   ],
   "source": [
    "np.tile(y, (2, 1))"
   ]
  },
  {
   "cell_type": "code",
   "execution_count": null,
   "metadata": {},
   "outputs": [],
   "source": []
  }
 ],
 "metadata": {
  "kernelspec": {
   "display_name": "Python 3",
   "language": "python",
   "name": "python3"
  },
  "language_info": {
   "codemirror_mode": {
    "name": "ipython",
    "version": 3
   },
   "file_extension": ".py",
   "mimetype": "text/x-python",
   "name": "python",
   "nbconvert_exporter": "python",
   "pygments_lexer": "ipython3",
   "version": "3.12.7"
  }
 },
 "nbformat": 4,
 "nbformat_minor": 2
}
